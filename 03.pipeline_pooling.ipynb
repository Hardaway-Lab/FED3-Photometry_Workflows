{
 "cells": [
  {
   "cell_type": "code",
   "execution_count": null,
   "id": "97653508-a1d7-474f-b6aa-3ae4be658c7c",
   "metadata": {},
   "outputs": [],
   "source": [
    "from routine.oo_interface import NPMPooling\n",
    "pooling = NPMPooling()"
   ]
  },
  {
   "cell_type": "code",
   "execution_count": null,
   "id": "7798f10a-ce0b-4a85-888c-1d7a9c6d809b",
   "metadata": {},
   "outputs": [],
   "source": [
    "pooling.set_data()"
   ]
  },
  {
   "cell_type": "code",
   "execution_count": null,
   "id": "4c18b26b-87be-4f4f-9fa8-359631533e2a",
   "metadata": {},
   "outputs": [],
   "source": [
    "pooling.set_roi()"
   ]
  },
  {
   "cell_type": "code",
   "execution_count": null,
   "id": "858149be-4c60-4dec-aa06-35786d384ca7",
   "metadata": {},
   "outputs": [],
   "source": [
    "pooling.set_evt_range()"
   ]
  },
  {
   "cell_type": "code",
   "execution_count": null,
   "id": "be6c006a-9532-4cd4-a09f-dd561c45be32",
   "metadata": {},
   "outputs": [],
   "source": [
    "pooling.pool_events()"
   ]
  },
  {
   "cell_type": "code",
   "execution_count": null,
   "id": "b7ddc852-23a8-4186-8329-b5d2bb6a5229",
   "metadata": {},
   "outputs": [],
   "source": [
    "pooling.export_data()"
   ]
  }
 ],
 "metadata": {
  "kernelspec": {
   "display_name": "npm",
   "language": "python",
   "name": "npm"
  },
  "language_info": {
   "codemirror_mode": {
    "name": "ipython",
    "version": 3
   },
   "file_extension": ".py",
   "mimetype": "text/x-python",
   "name": "python",
   "nbconvert_exporter": "python",
   "pygments_lexer": "ipython3",
   "version": "3.11.3"
  }
 },
 "nbformat": 4,
 "nbformat_minor": 5
}
