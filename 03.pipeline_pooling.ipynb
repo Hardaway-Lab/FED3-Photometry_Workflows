{
 "cells": [
  {
   "cell_type": "markdown",
   "id": "00e0c678",
   "metadata": {},
   "source": [
    "#  03 Timestamp Pooling\n",
    "\n",
    "The goal of this module is to segment data around timestamps of interested and create peri-event plots. Both peri-event plots, and segmented traces will be written out at the end.\n",
    "\n",
    "Before running this module, you should process raw data using 01.pipeline_process and 02.pipeline_align to normalize data and align timestamps. \n",
    "\n",
    "For resources and more information on each processing step, see our [Analysis Manual](https://static1.squarespace.com/static/60ff345fca665d50e1adc805/t/645405b5e520f5323850b0fb/1683228085778/Manual-Analysis_20230503.pdf)."
   ]
  },
  {
   "cell_type": "markdown",
   "id": "e9cb8f15",
   "metadata": {},
   "source": [
    "## Initialize Module"
   ]
  },
  {
   "cell_type": "code",
   "execution_count": null,
   "id": "97653508-a1d7-474f-b6aa-3ae4be658c7c",
   "metadata": {
    "scrolled": true,
    "tags": []
   },
   "outputs": [],
   "source": [
    "from routine.oo_interface import NPMPooling\n",
    "pooling = NPMPooling()"
   ]
  },
  {
   "cell_type": "markdown",
   "id": "3cd14fe7",
   "metadata": {},
   "source": [
    "## Select processed data and aligned timestamps\n",
    "Choose processed photometry data generated in module 01, and timestamp alignment file generated in module 2. "
   ]
  },
  {
   "cell_type": "code",
   "execution_count": null,
   "id": "7798f10a-ce0b-4a85-888c-1d7a9c6d809b",
   "metadata": {},
   "outputs": [],
   "source": [
    "pooling.set_data()"
   ]
  },
  {
   "cell_type": "markdown",
   "id": "c2cfe1bf",
   "metadata": {},
   "source": [
    "## Select output path for figures and segmented photometry data"
   ]
  },
  {
   "cell_type": "code",
   "execution_count": null,
   "id": "1288b0bc-51ab-4a21-a485-825aeaf9e7e7",
   "metadata": {
    "scrolled": true,
    "tags": []
   },
   "outputs": [],
   "source": [
    "pooling.set_paths()"
   ]
  },
  {
   "cell_type": "markdown",
   "id": "95c6f6e1",
   "metadata": {},
   "source": [
    "## Select which ROIs to include"
   ]
  },
  {
   "cell_type": "code",
   "execution_count": null,
   "id": "4c18b26b-87be-4f4f-9fa8-359631533e2a",
   "metadata": {
    "scrolled": true
   },
   "outputs": [],
   "source": [
    "pooling.set_roi()"
   ]
  },
  {
   "cell_type": "markdown",
   "id": "dfd970df",
   "metadata": {
    "tags": []
   },
   "source": [
    "## Choose the number of frames to include on either side of the timestamps\n",
    "This number will depend on the nature of the timestamped event. "
   ]
  },
  {
   "cell_type": "code",
   "execution_count": null,
   "id": "858149be-4c60-4dec-aa06-35786d384ca7",
   "metadata": {},
   "outputs": [],
   "source": [
    "pooling.set_evt_range()"
   ]
  },
  {
   "cell_type": "markdown",
   "id": "8010acbb",
   "metadata": {},
   "source": [
    "## Create peri-event plots"
   ]
  },
  {
   "cell_type": "code",
   "execution_count": null,
   "id": "be6c006a-9532-4cd4-a09f-dd561c45be32",
   "metadata": {},
   "outputs": [],
   "source": [
    "pooling.pool_events()"
   ]
  },
  {
   "cell_type": "markdown",
   "id": "1dfe2504",
   "metadata": {},
   "source": [
    "## Export and save data"
   ]
  },
  {
   "cell_type": "code",
   "execution_count": null,
   "id": "b7ddc852-23a8-4186-8329-b5d2bb6a5229",
   "metadata": {},
   "outputs": [],
   "source": [
    "pooling.export_data()"
   ]
  }
 ],
 "metadata": {
  "kernelspec": {
   "display_name": "npm",
   "language": "python",
   "name": "npm"
  },
  "language_info": {
   "codemirror_mode": {
    "name": "ipython",
    "version": 3
   },
   "file_extension": ".py",
   "mimetype": "text/x-python",
   "name": "python",
   "nbconvert_exporter": "python",
   "pygments_lexer": "ipython3",
   "version": "3.11.3"
  },
  "toc": {
   "base_numbering": 1,
   "nav_menu": {},
   "number_sections": true,
   "sideBar": true,
   "skip_h1_title": false,
   "title_cell": "Table of Contents",
   "title_sidebar": "Contents",
   "toc_cell": false,
   "toc_position": {},
   "toc_section_display": true,
   "toc_window_display": true
  }
 },
 "nbformat": 4,
 "nbformat_minor": 5
}
