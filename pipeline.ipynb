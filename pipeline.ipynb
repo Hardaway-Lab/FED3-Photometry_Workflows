{
 "cells": [
  {
   "cell_type": "markdown",
   "metadata": {},
   "source": [
    "# Photometry Analysis\n",
    "\n",
    "The goal of this script is to:\n",
    "\n",
    "1. import photometry data and crop\n",
    "1. deinterleave data\n",
    "1. normalize photometry data for photobleaching\n",
    "1. chop up photometry data around keystrokes\n"
   ]
  },
  {
   "cell_type": "markdown",
   "metadata": {},
   "source": [
    "## import and definition\n"
   ]
  },
  {
   "cell_type": "code",
   "execution_count": null,
   "metadata": {
    "tags": []
   },
   "outputs": [],
   "source": [
    "import os\n",
    "\n",
    "import pandas as pd\n",
    "from IPython.display import display\n",
    "from ipywidgets import Layout, widgets\n",
    "\n",
    "from routine.plotting import plot_events, plot_signals\n",
    "from routine.processing import photobleach_correction\n",
    "from routine.utilities import load_data, pool_events"
   ]
  },
  {
   "cell_type": "code",
   "execution_count": null,
   "metadata": {
    "tags": []
   },
   "outputs": [],
   "source": [
    "exp_layout = Layout(width=\"auto\")\n",
    "w_data = widgets.FileUpload(\n",
    "    accept=\".csv\", multiple=False, description=\"Upload Data File\", layout=exp_layout\n",
    ")\n",
    "w_ts = widgets.FileUpload(\n",
    "    accept=\".csv\", multiple=False, description=\"Upload TimeStamp\", layout=exp_layout\n",
    ")\n",
    "display(w_data)\n",
    "display(w_ts)\n"
   ]
  },
  {
   "cell_type": "code",
   "execution_count": null,
   "metadata": {
    "tags": []
   },
   "outputs": [],
   "source": [
    "styling = {\"style\": {\"description_width\": \"initial\"}, \"layout\": Layout(width=\"40%\")}\n",
    "os.makedirs(\"./upload\", exist_ok=True)\n",
    "with open(\"./upload/data.csv\", \"wb\") as dat:\n",
    "    dat.write(w_data.value[0][\"content\"].tobytes())\n",
    "with open(\"./upload/timestamp.csv\", \"wb\") as dat:\n",
    "    dat.write(w_ts.value[0][\"content\"].tobytes())\n",
    "data = pd.read_csv(\"./upload/data.csv\")\n",
    "w_roi = widgets.SelectMultiple(\n",
    "    options=data.columns, description=\"ROIs (Multiple Selection)\", **styling\n",
    ")\n",
    "w_nfm = widgets.IntSlider(\n",
    "    min=0,\n",
    "    max=data[\"FrameCounter\"].max(),\n",
    "    step=1,\n",
    "    description=\"Number of frames to discard\",\n",
    "    **styling\n",
    ")\n",
    "w_evt_range = widgets.IntRangeSlider(\n",
    "    min=-1000, max=1000, step=1, description=\"Number of frames around event\", **styling\n",
    ")\n",
    "w_led_dict = {\n",
    "    i: widgets.Text(\n",
    "        placeholder=\"e.g. 'initial', '415nm' ...\",\n",
    "        description=\"Label for LED {}\".format(i),\n",
    "        **styling\n",
    "    )\n",
    "    for i in data[\"LedState\"].unique()\n",
    "}\n",
    "w_base = widgets.Text(\n",
    "    placeholder=\"must be one of the label entered above\",\n",
    "    description=\"Name of baseline signal\",\n",
    "    **styling\n",
    ")\n",
    "display(w_roi)\n",
    "display(w_nfm)\n",
    "display(w_evt_range)\n",
    "for w in w_led_dict.values():\n",
    "    display(w)\n",
    "display(w_base)\n"
   ]
  },
  {
   "cell_type": "code",
   "execution_count": null,
   "metadata": {
    "tags": []
   },
   "outputs": [],
   "source": [
    "IN_DATA = \"./upload/data.csv\"\n",
    "IN_TS = \"./upload/timestamp.csv\"\n",
    "PARAM_ROIS = list(w_roi.value)  # [\"Region0G\"]\n",
    "PARAM_NFM_DISCARD = w_nfm.value  # 100\n",
    "PARAM_EVT_RANGE = w_evt_range.value  # (-200, 400)\n",
    "PARAM_LED_DICT = {\n",
    "    i: w.value for i, w in w_led_dict.items()\n",
    "}  # {7: \"initial\", 1: \"415nm\", 2: \"470nm\", 4: \"560nm\"}\n",
    "PARAM_BASE_SIG = w_base.value  # \"415nm\"\n",
    "assert (\n",
    "    PARAM_BASE_SIG in PARAM_LED_DICT.values()\n",
    "), \"cannot use {} as baseline signal as it's not in LED label mapping: {}\".format(\n",
    "    PARAM_BASE_SIG, PARAM_LED_DICT\n",
    ")\n"
   ]
  },
  {
   "cell_type": "markdown",
   "metadata": {},
   "source": [
    "## load data\n"
   ]
  },
  {
   "cell_type": "markdown",
   "metadata": {},
   "source": [
    "ensure equal number of frames for each channel\n"
   ]
  },
  {
   "cell_type": "code",
   "execution_count": null,
   "metadata": {
    "tags": []
   },
   "outputs": [],
   "source": [
    "data, ts = load_data(IN_DATA, IN_TS, PARAM_NFM_DISCARD, PARAM_LED_DICT)\n"
   ]
  },
  {
   "cell_type": "markdown",
   "metadata": {},
   "source": [
    "## visualize raw signal\n"
   ]
  },
  {
   "cell_type": "code",
   "execution_count": null,
   "metadata": {
    "tags": []
   },
   "outputs": [],
   "source": [
    "plot_signals(data, PARAM_ROIS)\n"
   ]
  },
  {
   "cell_type": "markdown",
   "metadata": {},
   "source": [
    "## correcting for photobleaching\n"
   ]
  },
  {
   "cell_type": "markdown",
   "metadata": {},
   "source": [
    "order of operations:\n",
    "\n",
    "1. deinterleave data by flag (LED) and save into a matrix\n",
    "1. fit isosbestic signal with a biexponential decay -- the shape of this decay is a good approximation of the CONCENTRATION of GCaMP molecules underneath your fiber.\n",
    "   it decreases as the photobleach.\n",
    "   the amplitude, however, is tiny.\n",
    "   to adjust for this, we:\n",
    "1. linearly scale the fitted decay to the 470 data using robust fit.\n",
    "1. divide the raw 470 data by this scale fit to get a corrected signal\n",
    "\n",
    "note: this isn't dF/F but it is INTERNALLY reliable -- that is, you can compare the beginning of the recording to the end of the recording.\n",
    "dF/F requires a good approximation of baseline.\n",
    "you can use the `FP.no_led` as an underestimation of this -- or determine it empirically.\n",
    "it often isn't critical to a sound analysis.\n"
   ]
  },
  {
   "cell_type": "code",
   "execution_count": null,
   "metadata": {
    "tags": []
   },
   "outputs": [],
   "source": [
    "data_norm = photobleach_correction(data, PARAM_ROIS, PARAM_BASE_SIG)\n"
   ]
  },
  {
   "cell_type": "markdown",
   "metadata": {},
   "source": [
    "## visualize correction result\n"
   ]
  },
  {
   "cell_type": "code",
   "execution_count": null,
   "metadata": {
    "tags": []
   },
   "outputs": [],
   "source": [
    "plot_signals(data_norm, PARAM_ROIS)\n"
   ]
  },
  {
   "cell_type": "markdown",
   "metadata": {},
   "source": [
    "## pool signals around `'Key'` events\n"
   ]
  },
  {
   "cell_type": "code",
   "execution_count": null,
   "metadata": {
    "tags": []
   },
   "outputs": [],
   "source": [
    "evt_df = pool_events(ts, data, PARAM_EVT_RANGE, PARAM_ROIS, event_name=\"Key\")\n"
   ]
  },
  {
   "cell_type": "markdown",
   "metadata": {},
   "source": [
    "## visualize signals around events\n"
   ]
  },
  {
   "cell_type": "code",
   "execution_count": null,
   "metadata": {
    "tags": []
   },
   "outputs": [],
   "source": [
    "plot_events(evt_df)\n"
   ]
  }
 ],
 "metadata": {
  "kernelspec": {
   "display_name": "Python 3 (ipykernel)",
   "language": "python",
   "name": "python3"
  },
  "language_info": {
   "codemirror_mode": {
    "name": "ipython",
    "version": 3
   },
   "file_extension": ".py",
   "mimetype": "text/x-python",
   "name": "python",
   "nbconvert_exporter": "python",
   "pygments_lexer": "ipython3",
   "version": "3.11.0"
  }
 },
 "nbformat": 4,
 "nbformat_minor": 4
}
