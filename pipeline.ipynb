{
 "cells": [
  {
   "attachments": {},
   "cell_type": "markdown",
   "metadata": {},
   "source": [
    "# Photometry Analysis\n",
    "\n",
    "The goal of this script is to:\n",
    "\n",
    "1. import photometry data and crop\n",
    "1. deinterleave data\n",
    "1. normalize photometry data for photobleaching\n",
    "1. chop up photometry data around keystrokes\n"
   ]
  },
  {
   "attachments": {},
   "cell_type": "markdown",
   "metadata": {},
   "source": [
    "## import and definition\n"
   ]
  },
  {
   "cell_type": "code",
   "execution_count": null,
   "metadata": {},
   "outputs": [],
   "source": [
    "from IPython.display import display\n",
    "from ipywidgets import widgets\n",
    "\n",
    "from routine.plotting import plot_events, plot_signals\n",
    "from routine.processing import photobleach_correction\n",
    "from routine.utilities import load_data, pool_events\n",
    "\n",
    "IN_DATA = \"./data/data.csv\"\n",
    "IN_TS = \"./data/timestamp.csv\"\n",
    "PARAM_ROIS = [\"Region0G\"]\n",
    "PARAM_NFM_DISCARD = 100\n",
    "PARAM_LED_DICT = {7: \"initial\", 1: \"415nm\", 2: \"470nm\", 4: \"560nm\"}\n",
    "PARAM_EVT_RANGE = (-200, 400)\n",
    "PARAM_BASE_SIG = \"415nm\""
   ]
  },
  {
   "attachments": {},
   "cell_type": "markdown",
   "metadata": {},
   "source": [
    "## load data\n"
   ]
  },
  {
   "attachments": {},
   "cell_type": "markdown",
   "metadata": {},
   "source": [
    "ensure equal number of frames for each channel\n"
   ]
  },
  {
   "cell_type": "code",
   "execution_count": null,
   "metadata": {},
   "outputs": [],
   "source": [
    "data, ts = load_data(IN_DATA, IN_TS, PARAM_NFM_DISCARD, PARAM_LED_DICT)\n"
   ]
  },
  {
   "attachments": {},
   "cell_type": "markdown",
   "metadata": {},
   "source": [
    "## visualize raw signal\n"
   ]
  },
  {
   "cell_type": "code",
   "execution_count": null,
   "metadata": {},
   "outputs": [],
   "source": [
    "plot_signals(data, PARAM_ROIS)\n"
   ]
  },
  {
   "attachments": {},
   "cell_type": "markdown",
   "metadata": {},
   "source": [
    "## correcting for photobleaching\n"
   ]
  },
  {
   "attachments": {},
   "cell_type": "markdown",
   "metadata": {},
   "source": [
    "order of operations:\n",
    "\n",
    "1. deinterleave data by flag (LED) and save into a matrix\n",
    "1. fit isosbestic signal with a biexponential decay -- the shape of this decay is a good approximation of the CONCENTRATION of GCaMP molecules underneath your fiber.\n",
    "   it decreases as the photobleach.\n",
    "   the amplitude, however, is tiny.\n",
    "   to adjust for this, we:\n",
    "1. linearly scale the fitted decay to the 470 data using robust fit.\n",
    "1. divide the raw 470 data by this scale fit to get a corrected signal\n",
    "\n",
    "note: this isn't dF/F but it is INTERNALLY reliable -- that is, you can compare the beginning of the recording to the end of the recording.\n",
    "dF/F requires a good approximation of baseline.\n",
    "you can use the `FP.no_led` as an underestimation of this -- or determine it empirically.\n",
    "it often isn't critical to a sound analysis.\n"
   ]
  },
  {
   "cell_type": "code",
   "execution_count": null,
   "metadata": {},
   "outputs": [],
   "source": [
    "data_norm = photobleach_correction(data, PARAM_ROIS, PARAM_BASE_SIG)\n"
   ]
  },
  {
   "attachments": {},
   "cell_type": "markdown",
   "metadata": {},
   "source": [
    "## visualize correction result\n"
   ]
  },
  {
   "cell_type": "code",
   "execution_count": null,
   "metadata": {},
   "outputs": [],
   "source": [
    "plot_signals(data_norm, PARAM_ROIS)\n"
   ]
  },
  {
   "attachments": {},
   "cell_type": "markdown",
   "metadata": {},
   "source": [
    "## pool signals around `'Key'` events\n"
   ]
  },
  {
   "cell_type": "code",
   "execution_count": null,
   "metadata": {},
   "outputs": [],
   "source": [
    "evt_df = pool_events(ts, data, PARAM_EVT_RANGE, PARAM_ROIS, event_name=\"Key\")\n"
   ]
  },
  {
   "attachments": {},
   "cell_type": "markdown",
   "metadata": {},
   "source": [
    "## visualize signals around events\n"
   ]
  },
  {
   "cell_type": "code",
   "execution_count": null,
   "metadata": {},
   "outputs": [],
   "source": [
    "plot_events(evt_df)\n"
   ]
  }
 ],
 "metadata": {
  "kernelspec": {
   "display_name": "neurophotometrics",
   "language": "python",
   "name": "python3"
  },
  "language_info": {
   "codemirror_mode": {
    "name": "ipython",
    "version": 3
   },
   "file_extension": ".py",
   "mimetype": "text/x-python",
   "name": "python",
   "nbconvert_exporter": "python",
   "pygments_lexer": "ipython3",
   "version": "3.11.0"
  },
  "orig_nbformat": 4
 },
 "nbformat": 4,
 "nbformat_minor": 2
}
