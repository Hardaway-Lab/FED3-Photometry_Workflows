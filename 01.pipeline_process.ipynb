{
 "cells": [
  {
   "cell_type": "markdown",
   "id": "f8442e50-77cf-4a16-9fa5-c3628be7acc7",
   "metadata": {
    "tags": []
   },
   "source": [
    "# Photometry Analysis\n",
    "\n",
    "Welcome to the Neurophotometrics Photometry Analysis Tool! This pipeline will allow you to process your photometry data without the need to write code. The goal of this script is to:\n",
    "\n",
    "1. Import photometry data and crop\n",
    "1. Deinterleave data\n",
    "1. Normalize photometry data for photobleaching and calculate dF/F\n",
    "1. Segment photometry data around timestamps to create peri-event plots\n",
    "1. Save figures and processed data\n",
    "\n",
    "If you are new to the Photometry Analysis Tool, please see our guide here (add link eventually)\n",
    "\n",
    "For resources and more information on each processing step, see our [Analysis Manual](https://static1.squarespace.com/static/60ff345fca665d50e1adc805/t/645405b5e520f5323850b0fb/1683228085778/Manual-Analysis_20230503.pdf)."
   ]
  },
  {
   "cell_type": "markdown",
   "id": "56178180-9a82-4cbd-9760-c306043bea19",
   "metadata": {},
   "source": [
    "## Import Data and Set Parameters"
   ]
  },
  {
   "cell_type": "code",
   "execution_count": null,
   "id": "3bee40e4-cdc5-4cb0-b034-ed79fdfdec3d",
   "metadata": {},
   "outputs": [],
   "source": [
    "from routine.oo_interface import NPMProcess\n",
    "process = NPMProcess()"
   ]
  },
  {
   "cell_type": "code",
   "execution_count": null,
   "id": "a844698f-751d-49a5-b169-86a160634bc1",
   "metadata": {},
   "outputs": [],
   "source": [
    "process.set_data()"
   ]
  },
  {
   "cell_type": "code",
   "execution_count": null,
   "id": "809d4ea7-0e26-415d-b5f6-bb59ae239473",
   "metadata": {},
   "outputs": [],
   "source": [
    "process.set_roi()"
   ]
  },
  {
   "cell_type": "code",
   "execution_count": null,
   "id": "29a61f59-31f2-4842-89ae-f1e294930447",
   "metadata": {},
   "outputs": [],
   "source": [
    "process.set_roi_names()"
   ]
  },
  {
   "cell_type": "code",
   "execution_count": null,
   "id": "e7a6ed6d-6238-401a-944a-ddfdf032ce5b",
   "metadata": {},
   "outputs": [],
   "source": [
    "process.set_nfm_discard()"
   ]
  },
  {
   "cell_type": "code",
   "execution_count": null,
   "id": "2d1c1676-f8ac-442c-bf21-01fbc6fa9d1d",
   "metadata": {},
   "outputs": [],
   "source": [
    "process.set_baseline()"
   ]
  },
  {
   "cell_type": "markdown",
   "id": "2b74b850-9652-4d0d-ae73-b17a65d51fe0",
   "metadata": {},
   "source": [
    "## Load and Visualize Raw Data"
   ]
  },
  {
   "cell_type": "code",
   "execution_count": null,
   "id": "778c69f6-7c41-4289-9f53-bfea8e0d77bb",
   "metadata": {},
   "outputs": [],
   "source": [
    "process.load_data()"
   ]
  },
  {
   "cell_type": "markdown",
   "id": "11e05567-3a6a-4598-9272-1f2bba8b838e",
   "metadata": {},
   "source": [
    "## Correct for Photobleaching"
   ]
  },
  {
   "cell_type": "markdown",
   "id": "d892f5fd-4599-4317-a927-c233319a86fc",
   "metadata": {},
   "source": [
    "Order of Operations:\n",
    "\n",
    "1. Deinterleave data by frame flag (LED) and save into a matrix\n",
    "1. Fit isosbestic (or 470) signal with a biexponential decay \n",
    "1. Linearly scale the fitted decay to the 470 data using robust fit.\n",
    "1. Divide the raw 470 data by this scaled fit to get a corrected signal\n",
    "\n",
    "For more information on dF/F values, see our [Analysis Manual](https://static1.squarespace.com/static/60ff345fca665d50e1adc805/t/645405b5e520f5323850b0fb/1683228085778/Manual-Analysis_20230503.pdf)."
   ]
  },
  {
   "cell_type": "code",
   "execution_count": null,
   "id": "799be62b-18f3-49ff-b29d-955ac08822cc",
   "metadata": {},
   "outputs": [],
   "source": [
    "process.photobleach_correction()"
   ]
  },
  {
   "cell_type": "markdown",
   "id": "d89504bf-5fc3-4423-a984-6d987e5d8565",
   "metadata": {},
   "source": [
    "## Save Processed Data"
   ]
  },
  {
   "cell_type": "code",
   "execution_count": null,
   "id": "04d1ab17-d091-4a83-abfc-34362587dba8",
   "metadata": {},
   "outputs": [],
   "source": [
    "process.export_data()"
   ]
  }
 ],
 "metadata": {
  "kernelspec": {
   "display_name": "npm",
   "language": "python",
   "name": "npm"
  },
  "language_info": {
   "codemirror_mode": {
    "name": "ipython",
    "version": 3
   },
   "file_extension": ".py",
   "mimetype": "text/x-python",
   "name": "python",
   "nbconvert_exporter": "python",
   "pygments_lexer": "ipython3",
   "version": "3.11.3"
  }
 },
 "nbformat": 4,
 "nbformat_minor": 5
}
