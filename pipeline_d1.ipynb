{
 "cells": [
  {
   "attachments": {},
   "cell_type": "markdown",
   "metadata": {},
   "source": [
    "# Photometry Analysis\n"
   ]
  },
  {
   "cell_type": "markdown",
   "metadata": {},
   "source": [
    "## import and definition\n"
   ]
  },
  {
   "cell_type": "code",
   "execution_count": null,
   "metadata": {
    "tags": []
   },
   "outputs": [],
   "source": [
    "import pandas as pd\n",
    "import numpy as np\n",
    "\n",
    "from routine.plotting import plot_signals, plot_peaks\n",
    "from routine.processing import compute_dff, find_pks\n",
    "from routine.utilities import load_data\n",
    "\n",
    "import plotly.graph_objects as go\n",
    "from plotly.subplots import make_subplots\n"
   ]
  },
  {
   "cell_type": "code",
   "execution_count": null,
   "metadata": {},
   "outputs": [],
   "source": [
    "IN_DATA = \"./data/d1/data.csv\"\n",
    "IN_TS = \"./data/d1/timestamps.csv\"\n",
    "IN_LOC = \"./data/d1/xy_coordinates.csv\"\n",
    "IN_INJ = \"./data/d1/injection_time.csv\"\n",
    "PARAM_ROIS = [\"Region0R\", \"Region1R\", \"Region2G\", \"Region3G\"]\n",
    "PARAM_NFM_DISCARD = 300\n",
    "PARAM_EVT_RANGE = (-200, 400)\n",
    "PARAM_PK_THRES = 5\n",
    "PARAM_PK_FREQ_WD = 100\n",
    "PARAM_LED_DICT = {7: \"initial\", 1: \"415nm\", 2: \"470nm\", 4: \"560nm\"}\n"
   ]
  },
  {
   "cell_type": "markdown",
   "metadata": {},
   "source": [
    "## load data\n"
   ]
  },
  {
   "cell_type": "markdown",
   "metadata": {},
   "source": [
    "ensure equal number of frames for each channel\n"
   ]
  },
  {
   "cell_type": "code",
   "execution_count": null,
   "metadata": {
    "tags": []
   },
   "outputs": [],
   "source": [
    "data, ts = load_data(IN_DATA, IN_TS, PARAM_NFM_DISCARD, PARAM_LED_DICT)\n"
   ]
  },
  {
   "cell_type": "markdown",
   "metadata": {},
   "source": [
    "## visualize raw signal\n"
   ]
  },
  {
   "cell_type": "code",
   "execution_count": null,
   "metadata": {
    "tags": []
   },
   "outputs": [],
   "source": [
    "plot_signals(data, PARAM_ROIS)\n"
   ]
  },
  {
   "attachments": {},
   "cell_type": "markdown",
   "metadata": {},
   "source": [
    "## compute df/F\n"
   ]
  },
  {
   "cell_type": "code",
   "execution_count": null,
   "metadata": {
    "tags": []
   },
   "outputs": [],
   "source": [
    "data_dff = compute_dff(data, PARAM_ROIS)\n"
   ]
  },
  {
   "cell_type": "markdown",
   "metadata": {},
   "source": [
    "## visualize correction result\n"
   ]
  },
  {
   "cell_type": "code",
   "execution_count": null,
   "metadata": {
    "tags": []
   },
   "outputs": [],
   "source": [
    "plot_signals(data_dff, PARAM_ROIS, default_window=None)\n"
   ]
  },
  {
   "attachments": {},
   "cell_type": "markdown",
   "metadata": {},
   "source": [
    "## find peaks and visualize result\n"
   ]
  },
  {
   "cell_type": "code",
   "execution_count": null,
   "metadata": {},
   "outputs": [],
   "source": [
    "data_pks = find_pks(\n",
    "    data_dff, PARAM_ROIS, PARAM_PK_THRES, PARAM_PK_FREQ_WD, [\"415nm-dff\", \"470nm-dff\"]\n",
    ")\n"
   ]
  },
  {
   "cell_type": "code",
   "execution_count": null,
   "metadata": {},
   "outputs": [],
   "source": [
    "plot_peaks(data_pks, PARAM_ROIS)\n"
   ]
  },
  {
   "attachments": {},
   "cell_type": "markdown",
   "metadata": {},
   "source": [
    "## align with behavior\n"
   ]
  },
  {
   "cell_type": "code",
   "execution_count": null,
   "metadata": {},
   "outputs": [],
   "source": [
    "loc_df = pd.read_csv(IN_LOC, names=[\"t(ms)\", \"x\", \"y\"], skiprows=1)\n",
    "inj_ts = pd.read_csv(IN_INJ, header=None).iloc[0, 0] - data_dff[\"Timestamp\"].min()\n",
    "loc_df[\"dist\"] = np.sqrt(loc_df[\"x\"] ** 2 + loc_df[\"y\"] ** 2)\n",
    "loc_df[\"t\"] = (loc_df[\"t(ms)\"] - loc_df[\"t(ms)\"].min()) / 1000\n",
    "loc_df[\"dt\"] = loc_df[\"t\"].diff()\n",
    "loc_df[\"v\"] = loc_df[\"dist\"] / loc_df[\"dt\"]\n"
   ]
  },
  {
   "cell_type": "code",
   "execution_count": null,
   "metadata": {},
   "outputs": [],
   "source": [
    "dat_dff = data_dff[data_dff[\"signal\"] == \"415nm-dff\"].copy()\n",
    "dat_pks = data_pks[data_pks[\"signal\"] == \"415nm-dff\"].copy()\n",
    "dat_dff[\"t\"] = dat_dff[\"Timestamp\"] - dat_dff[\"Timestamp\"].min()\n",
    "dat_pks[\"t\"] = dat_pks[\"Timestamp\"] - dat_pks[\"Timestamp\"].min()\n",
    "fig = make_subplots(rows=3, cols=1, shared_xaxes=True)\n",
    "fig.add_trace(go.Scatter(x=dat_dff[\"t\"], y=dat_dff[\"Region0R\"]), row=1, col=1)\n",
    "fig.add_trace(go.Scatter(x=dat_pks[\"t\"], y=dat_pks[\"Region0R-freq\"]), row=2, col=1)\n",
    "fig.add_trace(go.Scatter(x=loc_df[\"t\"], y=loc_df[\"v\"]), row=3, col=1)\n",
    "fig.update_xaxes(title_text=\"Time (sec)\")\n",
    "fig.update_yaxes(title_text=\"df/F 415nm\", row=1, col=1)\n",
    "fig.update_yaxes(title_text=\"spike frequency\", row=2, col=1)\n",
    "fig.update_yaxes(title_text=\"velocity\", row=3, col=1)\n",
    "fig.add_vline(inj_ts, line_dash=\"dot\", line_color=\"grey\")\n"
   ]
  }
 ],
 "metadata": {
  "kernelspec": {
   "display_name": "Python 3 (ipykernel)",
   "language": "python",
   "name": "python3"
  },
  "language_info": {
   "codemirror_mode": {
    "name": "ipython",
    "version": 3
   },
   "file_extension": ".py",
   "mimetype": "text/x-python",
   "name": "python",
   "nbconvert_exporter": "python",
   "pygments_lexer": "ipython3",
   "version": "3.11.0"
  }
 },
 "nbformat": 4,
 "nbformat_minor": 4
}
