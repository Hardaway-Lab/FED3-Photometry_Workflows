{
 "cells": [
  {
   "cell_type": "code",
   "execution_count": null,
   "id": "8fb0f695-790d-4070-a7ae-2ef01b95f080",
   "metadata": {},
   "outputs": [],
   "source": [
    "from routine.oo_interface import NPMAlign\n",
    "align = NPMAlign()"
   ]
  },
  {
   "cell_type": "code",
   "execution_count": null,
   "id": "7bc2fcb4-0fbb-4c1e-bc93-ebf8d99ebab5",
   "metadata": {},
   "outputs": [],
   "source": [
    "align.set_data()"
   ]
  },
  {
   "cell_type": "code",
   "execution_count": null,
   "id": "67a6cb8b-f984-443f-b6a8-611de278834a",
   "metadata": {},
   "outputs": [],
   "source": [
    "align.set_paths()"
   ]
  },
  {
   "cell_type": "code",
   "execution_count": null,
   "id": "0f8cf34f-36d2-479c-a718-7ec0d25171fc",
   "metadata": {},
   "outputs": [],
   "source": [
    "align.set_ts()"
   ]
  },
  {
   "cell_type": "code",
   "execution_count": null,
   "id": "4929bd2d-407d-42b5-b528-de2a6cc4cc45",
   "metadata": {},
   "outputs": [],
   "source": [
    "align.align_data()"
   ]
  },
  {
   "cell_type": "code",
   "execution_count": null,
   "id": "23a317c0-a1bd-4019-90b2-a5ad9bfbe01f",
   "metadata": {},
   "outputs": [],
   "source": [
    "align.export_data()"
   ]
  }
 ],
 "metadata": {
  "kernelspec": {
   "display_name": "npm",
   "language": "python",
   "name": "npm"
  },
  "language_info": {
   "codemirror_mode": {
    "name": "ipython",
    "version": 3
   },
   "file_extension": ".py",
   "mimetype": "text/x-python",
   "name": "python",
   "nbconvert_exporter": "python",
   "pygments_lexer": "ipython3",
   "version": "3.11.3"
  }
 },
 "nbformat": 4,
 "nbformat_minor": 5
}
