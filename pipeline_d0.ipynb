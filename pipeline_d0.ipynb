{
 "cells": [
  {
   "cell_type": "markdown",
   "metadata": {
    "tags": []
   },
   "source": [
    "# Photometry Analysis\n",
    "\n",
    "Welcome to the Neurophotometrics Photometry Analysis Tool! This pipeline will allow you to process your photometry data without the need to write code. The goal of this script is to:\n",
    "\n",
    "1. Import photometry data and crop\n",
    "1. Deinterleave data\n",
    "1. Normalize photometry data for photobleaching and calculate dF/F\n",
    "1. Segment photometry data around timestamps to create peri-event plots\n",
    "1. Save figures and processed data\n",
    "\n",
    "If you are new to the Photometry Analysis Tool, please see our guide here (add link eventually)\n",
    "\n",
    "For resources and more information on each processing step, see our [Analysis Manual](https://static1.squarespace.com/static/60ff345fca665d50e1adc805/t/645405b5e520f5323850b0fb/1683228085778/Manual-Analysis_20230503.pdf)."
   ]
  },
  {
   "cell_type": "markdown",
   "metadata": {},
   "source": [
    "## Import Data and Set Parameters\n"
   ]
  },
  {
   "cell_type": "code",
   "execution_count": null,
   "metadata": {
    "tags": []
   },
   "outputs": [],
   "source": [
    "import os\n",
    "\n",
    "import pandas as pd\n",
    "from IPython.display import display\n",
    "from ipywidgets import Layout, widgets\n",
    "\n",
    "from routine.plotting import plot_events, plot_signals\n",
    "from routine.processing import photobleach_correction\n",
    "from routine.utilities import load_data, pool_events"
   ]
  },
  {
   "cell_type": "code",
   "execution_count": null,
   "metadata": {
    "tags": []
   },
   "outputs": [],
   "source": [
    "exp_layout = Layout(width=\"auto\")\n",
    "w_data = widgets.FileUpload(\n",
    "    accept=\".csv\", multiple=False, description=\"Upload Data File\", layout=exp_layout\n",
    ")\n",
    "w_ts = widgets.FileUpload(\n",
    "    accept=\".csv\", multiple=False, description=\"Upload TimeStamp\", layout=exp_layout\n",
    ")\n",
    "display(w_data)\n",
    "display(w_ts)"
   ]
  },
  {
   "cell_type": "code",
   "execution_count": null,
   "metadata": {
    "tags": []
   },
   "outputs": [],
   "source": [
    "os.makedirs(\"./upload\", exist_ok=True)\n",
    "with open(\"./upload/data.csv\", \"wb\") as dat:\n",
    "    dat.write(w_data.value[0][\"content\"].tobytes())\n",
    "with open(\"./upload/timestamp.csv\", \"wb\") as dat:\n",
    "    dat.write(w_ts.value[0][\"content\"].tobytes())\n",
    "styling = {\"style\": {\"description_width\": \"initial\"}, \"layout\": Layout(width=\"80%\")}\n",
    "data = pd.read_csv(\"./upload/data.csv\")\n",
    "w_roi = widgets.SelectMultiple(\n",
    "    options=data.columns, description=\"ROIs (CTRL click to Select Multiple)\", **styling\n",
    ")\n",
    "w_nfm = widgets.IntSlider(\n",
    "    min=0,\n",
    "    max=data[\"FrameCounter\"].max(),\n",
    "    step=1,\n",
    "    description=\"Number of Frames to Discard from Beginning of Recording\",\n",
    "    **styling\n",
    ")\n",
    "w_evt_range = widgets.IntRangeSlider(\n",
    "    min=-1000,\n",
    "    max=1000,\n",
    "    step=1,\n",
    "    description=\"Number of Frames to Include Before and After Event \",\n",
    "    **styling\n",
    ")\n",
    "w_base = widgets.ToggleButtons(\n",
    "    options=[\"415nm\", \"470nm\", \"560nm\"],\n",
    "    description=\"Channel to use as Reference Signal:\",\n",
    "    disabled=False,\n",
    "    button_style=\"\",\n",
    "    tooltips=[\n",
    "        \"Best for most recordings\",\n",
    "        \"Alternative for certain neurotransmitter sensors\",\n",
    "        \"Alternative for certain red-shifted sensors\",\n",
    "    ],\n",
    ")\n",
    "\n",
    "display(w_roi)\n",
    "display(w_nfm)\n",
    "display(w_evt_range)\n",
    "display(w_base)"
   ]
  },
  {
   "cell_type": "code",
   "execution_count": null,
   "metadata": {
    "tags": []
   },
   "outputs": [],
   "source": [
    "rois = list(w_roi.value)\n",
    "w_roi_dict = {\n",
    "    r: widgets.Text(value=r, description=\"Label for {}\".format(r), **styling)\n",
    "    for r in rois\n",
    "}\n",
    "for w in w_roi_dict.values():\n",
    "    display(w)"
   ]
  },
  {
   "cell_type": "code",
   "execution_count": null,
   "metadata": {
    "tags": []
   },
   "outputs": [],
   "source": [
    "IN_DATA = \"./upload/data.csv\"\n",
    "IN_TS = \"./upload/timestamp.csv\"\n",
    "FIG_PATH = \"./figs/d0\"\n",
    "OUT_PATH = \"./output/d0\"\n",
    "PARAM_NFM_DISCARD = w_nfm.value  # 100\n",
    "PARAM_EVT_RANGE = w_evt_range.value  # (-200, 400)\n",
    "PARAM_LED_DICT = {7: \"initial\", 1: \"415nm\", 2: \"470nm\", 4: \"560nm\"}\n",
    "PARAM_ROI_DICT = {r: w.value for r, w in w_roi_dict.items()}\n",
    "PARAM_BASE_SIG = w_base.value  # \"415nm\"\n",
    "assert (\n",
    "    PARAM_BASE_SIG in PARAM_LED_DICT.values()\n",
    "), \"cannot use {} as baseline signal as it's not in LED label mapping: {}\".format(\n",
    "    PARAM_BASE_SIG, PARAM_LED_DICT\n",
    ")\n",
    "os.makedirs(FIG_PATH, exist_ok=True)\n",
    "os.makedirs(OUT_PATH, exist_ok=True)"
   ]
  },
  {
   "cell_type": "markdown",
   "metadata": {
    "tags": []
   },
   "source": [
    "## Load Data\n"
   ]
  },
  {
   "cell_type": "code",
   "execution_count": null,
   "metadata": {
    "tags": []
   },
   "outputs": [],
   "source": [
    "data, ts = load_data(IN_DATA, IN_TS, PARAM_NFM_DISCARD, PARAM_LED_DICT, PARAM_ROI_DICT)"
   ]
  },
  {
   "cell_type": "markdown",
   "metadata": {},
   "source": [
    "## Visualize Raw Signal\n",
    "Run cell to generate raw data plots\n"
   ]
  },
  {
   "cell_type": "code",
   "execution_count": null,
   "metadata": {
    "tags": []
   },
   "outputs": [],
   "source": [
    "fig = plot_signals(data, list(PARAM_ROI_DICT.values()))\n",
    "fig.write_html(os.path.join(FIG_PATH, \"raw_signals.html\"))\n",
    "fig.show()"
   ]
  },
  {
   "cell_type": "markdown",
   "metadata": {},
   "source": [
    "## Correct for Photobleaching\n"
   ]
  },
  {
   "cell_type": "markdown",
   "metadata": {},
   "source": [
    "Order of Operations:\n",
    "\n",
    "1. Deinterleave data by frame flag (LED) and save into a matrix\n",
    "1. Fit isosbestic (or 470) signal with a biexponential decay \n",
    "1. Linearly scale the fitted decay to the 470 data using robust fit.\n",
    "1. Divide the raw 470 data by this scaled fit to get a corrected signal\n",
    "\n",
    "For more information on dF/F values, see our [Analysis Manual](https://static1.squarespace.com/static/60ff345fca665d50e1adc805/t/645405b5e520f5323850b0fb/1683228085778/Manual-Analysis_20230503.pdf).\n",
    "\n"
   ]
  },
  {
   "cell_type": "code",
   "execution_count": null,
   "metadata": {
    "tags": []
   },
   "outputs": [],
   "source": [
    "data_norm = photobleach_correction(data, list(PARAM_ROI_DICT.values()), PARAM_BASE_SIG)"
   ]
  },
  {
   "cell_type": "markdown",
   "metadata": {},
   "source": [
    "## Visualize Corrected Data\n"
   ]
  },
  {
   "cell_type": "code",
   "execution_count": null,
   "metadata": {
    "tags": []
   },
   "outputs": [],
   "source": [
    "fig = plot_signals(\n",
    "    data_norm,\n",
    "    list(PARAM_ROI_DICT.values()),\n",
    "    group_dict={\n",
    "        \"415nm\": \"415nm\",\n",
    "        \"415nm-fit\": \"415nm\",\n",
    "        \"470nm\": \"470nm\",\n",
    "        \"470nm-norm\": \"470nm\",\n",
    "    },\n",
    ")\n",
    "fig.write_html(os.path.join(FIG_PATH, \"photobleaching_correction.html\"))\n",
    "fig.show()"
   ]
  },
  {
   "cell_type": "markdown",
   "metadata": {},
   "source": [
    "## Segment Data with `'Keydown'` Timestamps\n"
   ]
  },
  {
   "cell_type": "code",
   "execution_count": null,
   "metadata": {
    "tags": []
   },
   "outputs": [],
   "source": [
    "evt_df = pool_events(\n",
    "    ts, data, PARAM_EVT_RANGE, list(PARAM_ROI_DICT.values()), event_name=\"Key\"\n",
    ")"
   ]
  },
  {
   "cell_type": "markdown",
   "metadata": {},
   "source": [
    "## Visualize Peri-Event Plots\n"
   ]
  },
  {
   "cell_type": "code",
   "execution_count": null,
   "metadata": {
    "tags": []
   },
   "outputs": [],
   "source": [
    "fig = plot_events(evt_df, list(PARAM_ROI_DICT.values())[0])\n",
    "fig.write_html(os.path.join(FIG_PATH, \"events.html\"))\n",
    "fig.show()"
   ]
  },
  {
   "cell_type": "markdown",
   "metadata": {},
   "source": [
    "## Save Processed Data\n"
   ]
  },
  {
   "cell_type": "code",
   "execution_count": null,
   "metadata": {
    "tags": []
   },
   "outputs": [],
   "source": [
    "data_norm.to_csv(os.path.join(OUT_PATH, \"data_norm.csv\"), index=False)\n",
    "evt_df.to_csv(os.path.join(OUT_PATH, \"events.csv\"), index=False)"
   ]
  }
 ],
 "metadata": {
  "kernelspec": {
   "display_name": "neurophotometrics",
   "language": "python",
   "name": "neurophotometrics"
  },
  "language_info": {
   "codemirror_mode": {
    "name": "ipython",
    "version": 3
   },
   "file_extension": ".py",
   "mimetype": "text/x-python",
   "name": "python",
   "nbconvert_exporter": "python",
   "pygments_lexer": "ipython3",
   "version": "3.10.9"
  },
  "toc": {
   "base_numbering": 1,
   "nav_menu": {},
   "number_sections": true,
   "sideBar": true,
   "skip_h1_title": false,
   "title_cell": "Table of Contents",
   "title_sidebar": "Contents",
   "toc_cell": false,
   "toc_position": {},
   "toc_section_display": true,
   "toc_window_display": true
  }
 },
 "nbformat": 4,
 "nbformat_minor": 4
}
